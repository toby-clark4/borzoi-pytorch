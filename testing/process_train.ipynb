{
 "cells": [
  {
   "cell_type": "code",
   "execution_count": 1,
   "id": "aecccd52",
   "metadata": {},
   "outputs": [],
   "source": [
    "import pandas as pd\n",
    "import numpy as np\n",
    "from collections import defaultdict\n",
    "import baskerville_dna as dna\n",
    "import pysam\n",
    "import h5py\n",
    "from borzoi_pytorch.data import process_sequence, bin_methylation"
   ]
  },
  {
   "cell_type": "code",
   "execution_count": 2,
   "id": "a0076ea9",
   "metadata": {},
   "outputs": [],
   "source": [
    "genome = pysam.FastaFile('/home/tobyc/data/borzoi-pytorch/data/ref_genomes/GRCh37/GCF_000001405.13/GCF_000001405.13_GRCh37_genomic.fna')"
   ]
  },
  {
   "cell_type": "markdown",
   "id": "0e5c645d",
   "metadata": {},
   "source": [
    "## Processing data from paper (GSE41169) into a usable format"
   ]
  },
  {
   "cell_type": "code",
   "execution_count": 24,
   "id": "bc0172d3",
   "metadata": {},
   "outputs": [
    {
     "name": "stderr",
     "output_type": "stream",
     "text": [
      "/tmp/ipykernel_51866/1967789236.py:1: ParserWarning: Falling back to the 'python' engine because the 'c' engine does not support skipfooter; you can avoid this warning by specifying engine='python'.\n",
      "  data_csv = pd.read_csv('../data/me_chip/GSE41169_series_matrix.txt', delimiter='\\t', skiprows=72, skipfooter=1)\n"
     ]
    }
   ],
   "source": [
    "data_csv = pd.read_csv('../data/me_chip/GSE41169_series_matrix.txt', delimiter='\\t', skiprows=72, skipfooter=1, engine='python')"
   ]
  },
  {
   "cell_type": "code",
   "execution_count": 26,
   "id": "4f7d5e30",
   "metadata": {},
   "outputs": [],
   "source": [
    "data_csv.set_index('ID_REF', inplace=True)"
   ]
  },
  {
   "cell_type": "code",
   "execution_count": 36,
   "id": "1548d3e4",
   "metadata": {},
   "outputs": [],
   "source": [
    "data_csv.mean(axis=1).reset_index().rename(columns={0:'mean_beta'}).to_csv('../data/me_chip/mean_beta_values.csv', index=False)"
   ]
  },
  {
   "cell_type": "code",
   "execution_count": 38,
   "id": "8608c880",
   "metadata": {},
   "outputs": [
    {
     "name": "stderr",
     "output_type": "stream",
     "text": [
      "/tmp/ipykernel_51866/3642129388.py:7: DtypeWarning: Columns (2,4,11,14,15) have mixed types. Specify dtype option on import or set low_memory=False.\n",
      "  manifest = pd.read_csv(\"../data/me_chip/manifest/GPL13534_HumanMethylation450_15017482_v.1.1.csv\", skiprows=7)\n"
     ]
    },
    {
     "name": "stdout",
     "output_type": "stream",
     "text": [
      "       IlmnID CHR     MAPINFO  \\\n",
      "0  cg00035864   Y   8553009.0   \n",
      "1  cg00050873   Y   9363356.0   \n",
      "2  cg00061679   Y  25314171.0   \n",
      "3  cg00063477   Y  22741795.0   \n",
      "4  cg00121626   Y  21664296.0   \n",
      "\n",
      "                                    Forward_Sequence  mean_beta  \n",
      "0  AATCCAAAGATGATGGAGGAGTGCCCGCTCATGATGTGAAGTACCT...   0.245431  \n",
      "1  TATCTCTGTCTGGCGAGGAGGCAACGCACAACTGTGGTGGTTTTTG...   0.784335  \n",
      "2  TCAACAAATGAGAGACATTGAAGAACTAATTCACTACTATTTGGTT...   0.580761  \n",
      "3  CTCCTGTACTTGTTCATTAAATAATGATTCCTTGGATATACCAAGT...   0.795170  \n",
      "4  AGGTGAATGAAGAGACTAATGGGAGTGGCTTGCAAGCCAGGTACTG...   0.398251  \n"
     ]
    }
   ],
   "source": [
    "# Mapping data to reference genome:\n",
    "\n",
    "# Load your beta-values (probes x samples)\n",
    "beta_df = pd.read_csv(\"../data/me_chip/mean_beta_values.csv\")\n",
    "\n",
    "# Load the manifest\n",
    "manifest = pd.read_csv(\"../data/me_chip/manifest/GPL13534_HumanMethylation450_15017482_v.1.1.csv\", skiprows=7)\n",
    "\n",
    "# Keep only relevant columns from manifest\n",
    "manifest_sub = manifest[['IlmnID', 'CHR', 'MAPINFO', 'Forward_Sequence']]\n",
    "\n",
    "# Merge beta-values with manifest annotation\n",
    "# Assume beta_df first column is 'ProbeID'\n",
    "beta_df.rename(columns={beta_df.columns[0]: 'IlmnID'}, inplace=True)\n",
    "\n",
    "annotated = pd.merge(manifest_sub, beta_df, on='IlmnID', how='inner')\n",
    "\n",
    "# Now 'annotated' contains: probe ID, chromosome, position, sequence + beta-values\n",
    "print(annotated.head())\n"
   ]
  },
  {
   "cell_type": "code",
   "execution_count": 43,
   "id": "44b35be2",
   "metadata": {},
   "outputs": [
    {
     "data": {
      "text/plain": [
       "IlmnID               0\n",
       "CHR                 65\n",
       "MAPINFO             65\n",
       "Forward_Sequence    65\n",
       "mean_beta            0\n",
       "dtype: int64"
      ]
     },
     "execution_count": 43,
     "metadata": {},
     "output_type": "execute_result"
    }
   ],
   "source": [
    "annotated.isna().sum()"
   ]
  },
  {
   "cell_type": "code",
   "execution_count": 46,
   "id": "0ce3e3d6",
   "metadata": {},
   "outputs": [],
   "source": [
    "annotated.dropna(inplace=True)\n",
    "annotated['MAPINFO'] = annotated['MAPINFO'].astype(int)"
   ]
  },
  {
   "cell_type": "code",
   "execution_count": 89,
   "id": "4859ea06",
   "metadata": {},
   "outputs": [],
   "source": [
    "annotated['CHR'] = annotated['CHR'].astype(str)"
   ]
  },
  {
   "cell_type": "code",
   "execution_count": 90,
   "id": "a3cdbc05",
   "metadata": {},
   "outputs": [
    {
     "data": {
      "text/html": [
       "<div>\n",
       "<style scoped>\n",
       "    .dataframe tbody tr th:only-of-type {\n",
       "        vertical-align: middle;\n",
       "    }\n",
       "\n",
       "    .dataframe tbody tr th {\n",
       "        vertical-align: top;\n",
       "    }\n",
       "\n",
       "    .dataframe thead th {\n",
       "        text-align: right;\n",
       "    }\n",
       "</style>\n",
       "<table border=\"1\" class=\"dataframe\">\n",
       "  <thead>\n",
       "    <tr style=\"text-align: right;\">\n",
       "      <th></th>\n",
       "      <th>IlmnID</th>\n",
       "      <th>CHR</th>\n",
       "      <th>MAPINFO</th>\n",
       "      <th>Forward_Sequence</th>\n",
       "      <th>mean_beta</th>\n",
       "    </tr>\n",
       "  </thead>\n",
       "  <tbody>\n",
       "    <tr>\n",
       "      <th>0</th>\n",
       "      <td>cg00035864</td>\n",
       "      <td>Y</td>\n",
       "      <td>8553009</td>\n",
       "      <td>AATCCAAAGATGATGGAGGAGTGCCCGCTCATGATGTGAAGTACCT...</td>\n",
       "      <td>0.245431</td>\n",
       "    </tr>\n",
       "    <tr>\n",
       "      <th>1</th>\n",
       "      <td>cg00050873</td>\n",
       "      <td>Y</td>\n",
       "      <td>9363356</td>\n",
       "      <td>TATCTCTGTCTGGCGAGGAGGCAACGCACAACTGTGGTGGTTTTTG...</td>\n",
       "      <td>0.784335</td>\n",
       "    </tr>\n",
       "    <tr>\n",
       "      <th>2</th>\n",
       "      <td>cg00061679</td>\n",
       "      <td>Y</td>\n",
       "      <td>25314171</td>\n",
       "      <td>TCAACAAATGAGAGACATTGAAGAACTAATTCACTACTATTTGGTT...</td>\n",
       "      <td>0.580761</td>\n",
       "    </tr>\n",
       "    <tr>\n",
       "      <th>3</th>\n",
       "      <td>cg00063477</td>\n",
       "      <td>Y</td>\n",
       "      <td>22741795</td>\n",
       "      <td>CTCCTGTACTTGTTCATTAAATAATGATTCCTTGGATATACCAAGT...</td>\n",
       "      <td>0.795170</td>\n",
       "    </tr>\n",
       "    <tr>\n",
       "      <th>4</th>\n",
       "      <td>cg00121626</td>\n",
       "      <td>Y</td>\n",
       "      <td>21664296</td>\n",
       "      <td>AGGTGAATGAAGAGACTAATGGGAGTGGCTTGCAAGCCAGGTACTG...</td>\n",
       "      <td>0.398251</td>\n",
       "    </tr>\n",
       "    <tr>\n",
       "      <th>...</th>\n",
       "      <td>...</td>\n",
       "      <td>...</td>\n",
       "      <td>...</td>\n",
       "      <td>...</td>\n",
       "      <td>...</td>\n",
       "    </tr>\n",
       "    <tr>\n",
       "      <th>485507</th>\n",
       "      <td>ch.22.909671F</td>\n",
       "      <td>22.0</td>\n",
       "      <td>46114168</td>\n",
       "      <td>TTTTCCTTTTAGCTGCTGATAGATTAATAGTATGTGAACCTTTTAA...</td>\n",
       "      <td>0.056644</td>\n",
       "    </tr>\n",
       "    <tr>\n",
       "      <th>485508</th>\n",
       "      <td>ch.22.46830341F</td>\n",
       "      <td>22.0</td>\n",
       "      <td>48451677</td>\n",
       "      <td>TGTGCATACATGCGCATGTGAACAGTCCATGGAGCTTAATCCCCTG...</td>\n",
       "      <td>0.026932</td>\n",
       "    </tr>\n",
       "    <tr>\n",
       "      <th>485509</th>\n",
       "      <td>ch.22.1008279F</td>\n",
       "      <td>22.0</td>\n",
       "      <td>48731367</td>\n",
       "      <td>CTGGCAGGGCACACACCTCAGCTGGGCCCTGTGGCAGGTGAACCCC...</td>\n",
       "      <td>0.020596</td>\n",
       "    </tr>\n",
       "    <tr>\n",
       "      <th>485510</th>\n",
       "      <td>ch.22.47579720R</td>\n",
       "      <td>22.0</td>\n",
       "      <td>49193714</td>\n",
       "      <td>ATGTACCCATACGGGAAAGGCCGCGTGAAGATGGAGACAGAGATGG...</td>\n",
       "      <td>0.064398</td>\n",
       "    </tr>\n",
       "    <tr>\n",
       "      <th>485511</th>\n",
       "      <td>ch.22.48274842R</td>\n",
       "      <td>22.0</td>\n",
       "      <td>49888838</td>\n",
       "      <td>AGTGTAGAATTTGGGGCTCGCCCTGTTGGTTCCTCCGGTGTGAAGG...</td>\n",
       "      <td>0.051382</td>\n",
       "    </tr>\n",
       "  </tbody>\n",
       "</table>\n",
       "<p>485512 rows × 5 columns</p>\n",
       "</div>"
      ],
      "text/plain": [
       "                 IlmnID   CHR   MAPINFO  \\\n",
       "0            cg00035864     Y   8553009   \n",
       "1            cg00050873     Y   9363356   \n",
       "2            cg00061679     Y  25314171   \n",
       "3            cg00063477     Y  22741795   \n",
       "4            cg00121626     Y  21664296   \n",
       "...                 ...   ...       ...   \n",
       "485507    ch.22.909671F  22.0  46114168   \n",
       "485508  ch.22.46830341F  22.0  48451677   \n",
       "485509   ch.22.1008279F  22.0  48731367   \n",
       "485510  ch.22.47579720R  22.0  49193714   \n",
       "485511  ch.22.48274842R  22.0  49888838   \n",
       "\n",
       "                                         Forward_Sequence  mean_beta  \n",
       "0       AATCCAAAGATGATGGAGGAGTGCCCGCTCATGATGTGAAGTACCT...   0.245431  \n",
       "1       TATCTCTGTCTGGCGAGGAGGCAACGCACAACTGTGGTGGTTTTTG...   0.784335  \n",
       "2       TCAACAAATGAGAGACATTGAAGAACTAATTCACTACTATTTGGTT...   0.580761  \n",
       "3       CTCCTGTACTTGTTCATTAAATAATGATTCCTTGGATATACCAAGT...   0.795170  \n",
       "4       AGGTGAATGAAGAGACTAATGGGAGTGGCTTGCAAGCCAGGTACTG...   0.398251  \n",
       "...                                                   ...        ...  \n",
       "485507  TTTTCCTTTTAGCTGCTGATAGATTAATAGTATGTGAACCTTTTAA...   0.056644  \n",
       "485508  TGTGCATACATGCGCATGTGAACAGTCCATGGAGCTTAATCCCCTG...   0.026932  \n",
       "485509  CTGGCAGGGCACACACCTCAGCTGGGCCCTGTGGCAGGTGAACCCC...   0.020596  \n",
       "485510  ATGTACCCATACGGGAAAGGCCGCGTGAAGATGGAGACAGAGATGG...   0.064398  \n",
       "485511  AGTGTAGAATTTGGGGCTCGCCCTGTTGGTTCCTCCGGTGTGAAGG...   0.051382  \n",
       "\n",
       "[485512 rows x 5 columns]"
      ]
     },
     "execution_count": 90,
     "metadata": {},
     "output_type": "execute_result"
    }
   ],
   "source": [
    "annotated"
   ]
  },
  {
   "cell_type": "code",
   "execution_count": 91,
   "id": "ac03d702",
   "metadata": {},
   "outputs": [
    {
     "data": {
      "text/html": [
       "<div>\n",
       "<style scoped>\n",
       "    .dataframe tbody tr th:only-of-type {\n",
       "        vertical-align: middle;\n",
       "    }\n",
       "\n",
       "    .dataframe tbody tr th {\n",
       "        vertical-align: top;\n",
       "    }\n",
       "\n",
       "    .dataframe thead th {\n",
       "        text-align: right;\n",
       "    }\n",
       "</style>\n",
       "<table border=\"1\" class=\"dataframe\">\n",
       "  <thead>\n",
       "    <tr style=\"text-align: right;\">\n",
       "      <th></th>\n",
       "      <th>IlmnID</th>\n",
       "      <th>CHR</th>\n",
       "      <th>MAPINFO</th>\n",
       "      <th>Forward_Sequence</th>\n",
       "      <th>mean_beta</th>\n",
       "    </tr>\n",
       "  </thead>\n",
       "  <tbody>\n",
       "    <tr>\n",
       "      <th>0</th>\n",
       "      <td>cg00035864</td>\n",
       "      <td>Y</td>\n",
       "      <td>8553009</td>\n",
       "      <td>AATCCAAAGATGATGGAGGAGTGCCCGCTCATGATGTGAAGTACCT...</td>\n",
       "      <td>0.245431</td>\n",
       "    </tr>\n",
       "    <tr>\n",
       "      <th>1</th>\n",
       "      <td>cg00050873</td>\n",
       "      <td>Y</td>\n",
       "      <td>9363356</td>\n",
       "      <td>TATCTCTGTCTGGCGAGGAGGCAACGCACAACTGTGGTGGTTTTTG...</td>\n",
       "      <td>0.784335</td>\n",
       "    </tr>\n",
       "    <tr>\n",
       "      <th>2</th>\n",
       "      <td>cg00061679</td>\n",
       "      <td>Y</td>\n",
       "      <td>25314171</td>\n",
       "      <td>TCAACAAATGAGAGACATTGAAGAACTAATTCACTACTATTTGGTT...</td>\n",
       "      <td>0.580761</td>\n",
       "    </tr>\n",
       "    <tr>\n",
       "      <th>3</th>\n",
       "      <td>cg00063477</td>\n",
       "      <td>Y</td>\n",
       "      <td>22741795</td>\n",
       "      <td>CTCCTGTACTTGTTCATTAAATAATGATTCCTTGGATATACCAAGT...</td>\n",
       "      <td>0.795170</td>\n",
       "    </tr>\n",
       "    <tr>\n",
       "      <th>4</th>\n",
       "      <td>cg00121626</td>\n",
       "      <td>Y</td>\n",
       "      <td>21664296</td>\n",
       "      <td>AGGTGAATGAAGAGACTAATGGGAGTGGCTTGCAAGCCAGGTACTG...</td>\n",
       "      <td>0.398251</td>\n",
       "    </tr>\n",
       "    <tr>\n",
       "      <th>...</th>\n",
       "      <td>...</td>\n",
       "      <td>...</td>\n",
       "      <td>...</td>\n",
       "      <td>...</td>\n",
       "      <td>...</td>\n",
       "    </tr>\n",
       "    <tr>\n",
       "      <th>485507</th>\n",
       "      <td>ch.22.909671F</td>\n",
       "      <td>22</td>\n",
       "      <td>46114168</td>\n",
       "      <td>TTTTCCTTTTAGCTGCTGATAGATTAATAGTATGTGAACCTTTTAA...</td>\n",
       "      <td>0.056644</td>\n",
       "    </tr>\n",
       "    <tr>\n",
       "      <th>485508</th>\n",
       "      <td>ch.22.46830341F</td>\n",
       "      <td>22</td>\n",
       "      <td>48451677</td>\n",
       "      <td>TGTGCATACATGCGCATGTGAACAGTCCATGGAGCTTAATCCCCTG...</td>\n",
       "      <td>0.026932</td>\n",
       "    </tr>\n",
       "    <tr>\n",
       "      <th>485509</th>\n",
       "      <td>ch.22.1008279F</td>\n",
       "      <td>22</td>\n",
       "      <td>48731367</td>\n",
       "      <td>CTGGCAGGGCACACACCTCAGCTGGGCCCTGTGGCAGGTGAACCCC...</td>\n",
       "      <td>0.020596</td>\n",
       "    </tr>\n",
       "    <tr>\n",
       "      <th>485510</th>\n",
       "      <td>ch.22.47579720R</td>\n",
       "      <td>22</td>\n",
       "      <td>49193714</td>\n",
       "      <td>ATGTACCCATACGGGAAAGGCCGCGTGAAGATGGAGACAGAGATGG...</td>\n",
       "      <td>0.064398</td>\n",
       "    </tr>\n",
       "    <tr>\n",
       "      <th>485511</th>\n",
       "      <td>ch.22.48274842R</td>\n",
       "      <td>22</td>\n",
       "      <td>49888838</td>\n",
       "      <td>AGTGTAGAATTTGGGGCTCGCCCTGTTGGTTCCTCCGGTGTGAAGG...</td>\n",
       "      <td>0.051382</td>\n",
       "    </tr>\n",
       "  </tbody>\n",
       "</table>\n",
       "<p>485512 rows × 5 columns</p>\n",
       "</div>"
      ],
      "text/plain": [
       "                 IlmnID CHR   MAPINFO  \\\n",
       "0            cg00035864   Y   8553009   \n",
       "1            cg00050873   Y   9363356   \n",
       "2            cg00061679   Y  25314171   \n",
       "3            cg00063477   Y  22741795   \n",
       "4            cg00121626   Y  21664296   \n",
       "...                 ...  ..       ...   \n",
       "485507    ch.22.909671F  22  46114168   \n",
       "485508  ch.22.46830341F  22  48451677   \n",
       "485509   ch.22.1008279F  22  48731367   \n",
       "485510  ch.22.47579720R  22  49193714   \n",
       "485511  ch.22.48274842R  22  49888838   \n",
       "\n",
       "                                         Forward_Sequence  mean_beta  \n",
       "0       AATCCAAAGATGATGGAGGAGTGCCCGCTCATGATGTGAAGTACCT...   0.245431  \n",
       "1       TATCTCTGTCTGGCGAGGAGGCAACGCACAACTGTGGTGGTTTTTG...   0.784335  \n",
       "2       TCAACAAATGAGAGACATTGAAGAACTAATTCACTACTATTTGGTT...   0.580761  \n",
       "3       CTCCTGTACTTGTTCATTAAATAATGATTCCTTGGATATACCAAGT...   0.795170  \n",
       "4       AGGTGAATGAAGAGACTAATGGGAGTGGCTTGCAAGCCAGGTACTG...   0.398251  \n",
       "...                                                   ...        ...  \n",
       "485507  TTTTCCTTTTAGCTGCTGATAGATTAATAGTATGTGAACCTTTTAA...   0.056644  \n",
       "485508  TGTGCATACATGCGCATGTGAACAGTCCATGGAGCTTAATCCCCTG...   0.026932  \n",
       "485509  CTGGCAGGGCACACACCTCAGCTGGGCCCTGTGGCAGGTGAACCCC...   0.020596  \n",
       "485510  ATGTACCCATACGGGAAAGGCCGCGTGAAGATGGAGACAGAGATGG...   0.064398  \n",
       "485511  AGTGTAGAATTTGGGGCTCGCCCTGTTGGTTCCTCCGGTGTGAAGG...   0.051382  \n",
       "\n",
       "[485512 rows x 5 columns]"
      ]
     },
     "execution_count": 91,
     "metadata": {},
     "output_type": "execute_result"
    }
   ],
   "source": [
    "annotated['CHR'] = annotated['CHR'].str.replace('.0','')\n",
    "annotated"
   ]
  },
  {
   "cell_type": "code",
   "execution_count": 3,
   "id": "731dc804",
   "metadata": {},
   "outputs": [],
   "source": [
    "refseq_map = {\n",
    "    \"1\": \"NC_000001.10\",\n",
    "    \"2\": \"NC_000002.11\",\n",
    "    \"3\": \"NC_000003.11\",\n",
    "    \"4\": \"NC_000004.11\",\n",
    "    \"5\": \"NC_000005.9\",\n",
    "    \"6\": \"NC_000006.11\",\n",
    "    \"7\": \"NC_000007.13\",\n",
    "    \"8\": \"NC_000008.10\",\n",
    "    \"9\": \"NC_000009.11\",\n",
    "    \"10\": \"NC_000010.10\",\n",
    "    \"11\": \"NC_000011.9\",\n",
    "    \"12\": \"NC_000012.11\",\n",
    "    \"13\": \"NC_000013.10\",\n",
    "    \"14\": \"NC_000014.8\",\n",
    "    \"15\": \"NC_000015.9\",\n",
    "    \"16\": \"NC_000016.9\",\n",
    "    \"17\": \"NC_000017.10\",\n",
    "    \"18\": \"NC_000018.9\",\n",
    "    \"19\": \"NC_000019.9\",\n",
    "    \"20\": \"NC_000020.10\",\n",
    "    \"21\": \"NC_000021.8\",\n",
    "    \"22\": \"NC_000022.10\",\n",
    "    \"X\": \"NC_000023.10\",\n",
    "    \"Y\": \"NC_000024.9\"\n",
    "}\n",
    "\n",
    "annotated['REFSEQ_chr'] = annotated['CHR'].map(refseq_map)"
   ]
  },
  {
   "cell_type": "code",
   "execution_count": 4,
   "id": "a3e67332",
   "metadata": {},
   "outputs": [],
   "source": [
    "annotated['CHR'] = annotated['CHR'].astype(str)"
   ]
  },
  {
   "cell_type": "code",
   "execution_count": 6,
   "id": "148f72b1",
   "metadata": {},
   "outputs": [],
   "source": [
    "annotated.to_csv('../data/me_chip/annotated_beta_values.csv', index=False)"
   ]
  },
  {
   "cell_type": "markdown",
   "id": "8cdb840e",
   "metadata": {},
   "source": [
    "## Accessing Windows"
   ]
  },
  {
   "cell_type": "code",
   "execution_count": 5,
   "id": "028c30e2",
   "metadata": {},
   "outputs": [
    {
     "data": {
      "text/plain": [
       "IlmnID               object\n",
       "CHR                  object\n",
       "MAPINFO               int64\n",
       "Forward_Sequence     object\n",
       "mean_beta           float64\n",
       "REFSEQ_chr           object\n",
       "dtype: object"
      ]
     },
     "execution_count": 5,
     "metadata": {},
     "output_type": "execute_result"
    }
   ],
   "source": [
    "annotated.dtypes"
   ]
  },
  {
   "cell_type": "code",
   "execution_count": 2,
   "id": "d6a29b8f",
   "metadata": {},
   "outputs": [],
   "source": [
    "annotated = pd.read_csv('../data/me_chip/annotated_beta_values.csv', dtype={'CHR': str})"
   ]
  },
  {
   "cell_type": "code",
   "execution_count": null,
   "id": "63ae9e2e",
   "metadata": {},
   "outputs": [
    {
     "name": "stdout",
     "output_type": "stream",
     "text": [
      "(524288, 4)\n",
      "(524288, 4)\n",
      "(524288, 4)\n",
      "(524288, 4)\n",
      "(524288, 4)\n",
      "(524288, 4)\n",
      "(524288, 4)\n",
      "(524288, 4)\n",
      "(524288, 4)\n",
      "(524288, 4)\n",
      "(524288, 4)\n",
      "(524288, 4)\n",
      "(524288, 4)\n",
      "(524288, 4)\n",
      "(524288, 4)\n",
      "(524288, 4)\n",
      "(524288, 4)\n",
      "(524288, 4)\n",
      "(524288, 4)\n",
      "(524288, 4)\n",
      "(524288, 4)\n",
      "(524288, 4)\n",
      "(524288, 4)\n",
      "(524288, 4)\n",
      "(524288, 4)\n",
      "(524288, 4)\n",
      "(524288, 4)\n",
      "(524288, 4)\n",
      "(524288, 4)\n",
      "(524288, 4)\n",
      "(524288, 4)\n",
      "(524288, 4)\n",
      "(524288, 4)\n",
      "(524288, 4)\n",
      "(524288, 4)\n",
      "(524288, 4)\n",
      "(524288, 4)\n",
      "(524288, 4)\n",
      "(524288, 4)\n",
      "(524288, 4)\n",
      "(524288, 4)\n",
      "(524288, 4)\n",
      "(524288, 4)\n",
      "(524288, 4)\n",
      "(524288, 4)\n",
      "(524288, 4)\n",
      "(524288, 4)\n",
      "(524288, 4)\n",
      "(524288, 4)\n",
      "(524288, 4)\n",
      "(524288, 4)\n",
      "(524288, 4)\n",
      "(524288, 4)\n",
      "(524288, 4)\n",
      "(524288, 4)\n",
      "(524288, 4)\n",
      "(524288, 4)\n",
      "(524288, 4)\n",
      "(524288, 4)\n",
      "(524288, 4)\n",
      "(524288, 4)\n",
      "(524288, 4)\n",
      "(524288, 4)\n",
      "(524288, 4)\n",
      "(524288, 4)\n",
      "(524288, 4)\n",
      "(524288, 4)\n",
      "(524288, 4)\n",
      "(524288, 4)\n",
      "(524288, 4)\n",
      "(524288, 4)\n",
      "(524288, 4)\n",
      "(524288, 4)\n",
      "(524288, 4)\n",
      "(524288, 4)\n",
      "(524288, 4)\n",
      "(524288, 4)\n",
      "(524288, 4)\n",
      "(524288, 4)\n",
      "(524288, 4)\n",
      "(524288, 4)\n",
      "(524288, 4)\n",
      "(524288, 4)\n",
      "(524288, 4)\n",
      "(524288, 4)\n",
      "(524288, 4)\n",
      "(524288, 4)\n",
      "(524288, 4)\n",
      "(524288, 4)\n",
      "(524288, 4)\n",
      "(524288, 4)\n",
      "(524288, 4)\n",
      "(524288, 4)\n",
      "(524288, 4)\n",
      "(524288, 4)\n",
      "(524288, 4)\n",
      "(524288, 4)\n",
      "(524288, 4)\n",
      "(524288, 4)\n",
      "(524288, 4)\n"
     ]
    }
   ],
   "source": [
    "\n",
    "genome = pysam.FastaFile('/home/tobyc/data/borzoi-pytorch/data/ref_genomes/GRCh37/GCF_000001405.13/GCF_000001405.13_GRCh37_genomic.fna')\n",
    "\n",
    "annot_subset = annotated.iloc[:100]\n",
    "for idx, row in annot_subset.iterrows():\n",
    "    chrom, start, end = extract_window(row['REFSEQ_chr'], row['MAPINFO'])\n",
    "    print(process_sequence(genome, chrom, start, end).shape)"
   ]
  },
  {
   "cell_type": "markdown",
   "id": "9ccec5a0",
   "metadata": {},
   "source": [
    "## Splitting"
   ]
  },
  {
   "cell_type": "code",
   "execution_count": 8,
   "id": "148fcf93",
   "metadata": {},
   "outputs": [
    {
     "data": {
      "text/plain": [
       "CHR\n",
       "1     0.096510\n",
       "6     0.075407\n",
       "2     0.071698\n",
       "7     0.061825\n",
       "11    0.059306\n",
       "17    0.057422\n",
       "19    0.052565\n",
       "3     0.051820\n",
       "12    0.050543\n",
       "10    0.050232\n",
       "5     0.050106\n",
       "16    0.045249\n",
       "8     0.043150\n",
       "4     0.042149\n",
       "15    0.031429\n",
       "14    0.031056\n",
       "13    0.025303\n",
       "X     0.023134\n",
       "20    0.021377\n",
       "9     0.020311\n",
       "22    0.017614\n",
       "18    0.012197\n",
       "21    0.008739\n",
       "Y     0.000857\n",
       "Name: proportion, dtype: float64"
      ]
     },
     "execution_count": 8,
     "metadata": {},
     "output_type": "execute_result"
    }
   ],
   "source": [
    "annotated['CHR'].value_counts(normalize=True)"
   ]
  },
  {
   "cell_type": "code",
   "execution_count": 9,
   "id": "03ed20fc",
   "metadata": {},
   "outputs": [],
   "source": [
    "annotated_train = annotated[~annotated['CHR'].isin(['3', '12', '5', '10'])]\n",
    "annotated_val = annotated[annotated['CHR'].isin(['3', '12'])]\n",
    "annotated_test = annotated[annotated['CHR'].isin(['5', '10'])]"
   ]
  },
  {
   "cell_type": "code",
   "execution_count": 11,
   "id": "5f480ba6",
   "metadata": {},
   "outputs": [],
   "source": [
    "annotated_train.to_csv('../data/me_chip/train.csv', index=False)\n",
    "annotated_val.to_csv('../data/me_chip/val.csv', index=False)\n",
    "annotated_test.to_csv('../data/me_chip/test.csv', index=False)"
   ]
  },
  {
   "cell_type": "code",
   "execution_count": 17,
   "id": "b0917aac",
   "metadata": {},
   "outputs": [],
   "source": [
    "annotated_train = annotated[~annotated['CHR'].isin(['19', '16', '22', '21', '6', '21', '17', '13', '20'])]\n",
    "annotated_val = annotated[annotated['CHR'].isin(['19', '16', '22', '21', '6'])]\n",
    "annotated_test = annotated[annotated['CHR'].isin(['21', '17', '13', '20'])]\n",
    "\n",
    "annotated_train.to_csv('../data/me_chip/ernest_train.csv', index=False)\n",
    "annotated_val.to_csv('../data/me_chip/ernest_val.csv', index=False)\n",
    "annotated_test.to_csv('../data/me_chip/ernest_test.csv', index=False)"
   ]
  },
  {
   "cell_type": "markdown",
   "id": "bd085849",
   "metadata": {},
   "source": [
    "## Predicting Multiple Values Per Window\n",
    "\n",
    "Workflow:\n",
    "- Separate genome into overlapping 524,288-length bins (intervals).\n",
    "- Check if there is an Me site in the central 196,608 bp, otherwise check if it is in the central 262,144.\n",
    "- If there is no Me site, drop the bin. If sites are outside the central 196,608, readjust window to contain them.\n",
    "- Create windowed array using Me values, averaging if multiple are in the same window. \n",
    "- Save h5 file with window and 32bp-windowed Me values.\n",
    "- Create hf dataset with index, coordinates and path to paired file.\n",
    "- Shift window by 262,144 and repeat the process.\n",
    "\n",
    "Example below is for chromosome 1 (NC_000001.10)"
   ]
  },
  {
   "cell_type": "code",
   "execution_count": 5,
   "id": "b794e508",
   "metadata": {},
   "outputs": [
    {
     "data": {
      "text/plain": [
       "249250621"
      ]
     },
     "execution_count": 5,
     "metadata": {},
     "output_type": "execute_result"
    }
   ],
   "source": [
    "chr1_length = genome.get_reference_length('NC_000001.10')\n",
    "genome.get_reference_length('NC_000001.10')"
   ]
  },
  {
   "cell_type": "code",
   "execution_count": 3,
   "id": "2422a282",
   "metadata": {},
   "outputs": [],
   "source": [
    "annotated = pd.read_csv('../data/me_chip/annotated_beta_values.csv', dtype={'CHR': str})\n",
    "annotated_chr1 = annotated[annotated['CHR'] == '1'].sort_values(by='MAPINFO').set_index('MAPINFO')"
   ]
  },
  {
   "cell_type": "code",
   "execution_count": 4,
   "id": "ff578c41",
   "metadata": {},
   "outputs": [],
   "source": [
    "annotated_train = annotated[~annotated['CHR'].isin(['19', '16', '22', '21', '6', '21', '17', '13', '20'])]\n",
    "annotated_val = annotated[annotated['CHR'].isin(['19', '16', '22', '21', '6'])]\n",
    "annotated_test = annotated[annotated['CHR'].isin(['21', '17', '13', '20'])]"
   ]
  },
  {
   "cell_type": "code",
   "execution_count": 5,
   "id": "1dbb1cea",
   "metadata": {},
   "outputs": [
    {
     "name": "stdout",
     "output_type": "stream",
     "text": [
      "No data for window starting at 0\n",
      "21 22\n",
      "134 151\n",
      "394 410\n",
      "327 353\n",
      "212 227\n",
      "174 181\n",
      "346 356\n",
      "350 367\n",
      "77 77\n"
     ]
    }
   ],
   "source": [
    "stride = 262_144\n",
    "centre_window = 196_608\n",
    "window_offset = (stride - centre_window / 2)\n",
    "\n",
    "\n",
    "for i in range(0, stride * 10, stride): # chr1_length - stride\n",
    "    measured = annotated_chr1.loc[i + window_offset: i+window_offset + centre_window].copy()\n",
    "    if measured.empty:\n",
    "        print(f\"No data for window starting at {i}\")\n",
    "    else:\n",
    "        sequence = genome.fetch('NC_000001.10', i, i + 2 * stride)\n",
    "        out_channel = np.zeros(stride // 16) # stride is half the sequence length.\n",
    "        measured['bin_loc'] = (measured.index - i) // 32 # Gets a 32 bp resolution.\n",
    "        for bin_loc, group in measured.groupby('bin_loc'):\n",
    "            out_channel[bin_loc] = group['mean_beta'].mean() # type: ignore\n",
    "\n",
    "        # display(measured)\n",
    "        nonzero = out_channel[np.where(out_channel != 0)]    \n",
    "        print(len(nonzero), len(measured))\n",
    "        assert len(nonzero) <= len(measured)"
   ]
  },
  {
   "cell_type": "code",
   "execution_count": 6,
   "id": "fb02e1d0",
   "metadata": {},
   "outputs": [
    {
     "name": "stdout",
     "output_type": "stream",
     "text": [
      "Processing chromosome NC_000024.9\n",
      "Processing chromosome NC_000023.10\n",
      "Processing chromosome NC_000001.10\n",
      "Processing chromosome NC_000002.11\n",
      "Processing chromosome NC_000003.11\n",
      "Processing chromosome NC_000004.11\n",
      "Processing chromosome NC_000005.9\n",
      "Processing chromosome NC_000007.13\n",
      "Processing chromosome NC_000008.10\n",
      "Processing chromosome NC_000009.11\n",
      "Processing chromosome NC_000010.10\n",
      "Processing chromosome NC_000011.9\n",
      "Processing chromosome NC_000012.11\n",
      "Processing chromosome NC_000014.8\n",
      "Processing chromosome NC_000015.9\n",
      "Processing chromosome NC_000018.9\n",
      "Processing chromosome NC_000006.11\n",
      "Processing chromosome NC_000016.9\n",
      "Processing chromosome NC_000019.9\n",
      "Processing chromosome NC_000021.8\n",
      "Processing chromosome NC_000022.10\n",
      "Processing chromosome NC_000013.10\n",
      "Processing chromosome NC_000017.10\n",
      "Processing chromosome NC_000020.10\n",
      "Processing chromosome NC_000021.8\n"
     ]
    }
   ],
   "source": [
    "seq_len = 524_288 # 2 * stride\n",
    "target_len = centre_window // 32 # to match Borzoi output resolution.\n",
    "\n",
    "for dataset, name in zip([annotated_train, annotated_val, annotated_test], ['train', 'val', 'test']):\n",
    "    with h5py.File(f\"../data/me_chip/ernest_{name}.h5\", \"w\") as f:\n",
    "        f.create_dataset(\n",
    "            \"sequence\",\n",
    "            shape=(0, 4, seq_len),\n",
    "            maxshape=(None, 4, seq_len),\n",
    "            dtype=np.uint8,\n",
    "            compression='lzf',\n",
    "            chunks=(1, 4, seq_len),            \n",
    "        )\n",
    "        f.create_dataset(\n",
    "            \"me_track\",\n",
    "            shape=(0, target_len),\n",
    "            maxshape=(None, target_len),\n",
    "            dtype=np.float32,\n",
    "            compression=\"lzf\",\n",
    "            chunks=(1, target_len)\n",
    "        )\n",
    "        f.create_dataset(\"chromosome\", shape=(0,), maxshape=(None,), dtype=h5py.string_dtype(encoding='utf-8'))\n",
    "        f.create_dataset(\"start_coord\", shape=(0,), maxshape=(None,), dtype=np.int32)\n",
    "\n",
    "    with h5py.File(f\"../data/me_chip/ernest_{name}.h5\", \"a\") as f:\n",
    "        for chrom in dataset['REFSEQ_chr'].unique():\n",
    "            print(f\"Processing chromosome {chrom}\")\n",
    "\n",
    "            chr_data = (\n",
    "                dataset[dataset['REFSEQ_chr'] == chrom]\n",
    "                .sort_values(by='MAPINFO')\n",
    "                .set_index('MAPINFO')\n",
    "            )\n",
    "            chr_length = genome.get_reference_length(chrom)\n",
    "\n",
    "            seqs, targets, chroms, starts = [], [], [], []\n",
    "\n",
    "            for i in range(0, chr_length - stride, stride):\n",
    "                measured = chr_data.loc[i + window_offset : i + window_offset + centre_window].copy()\n",
    "                if measured.empty:\n",
    "                    continue\n",
    "\n",
    "                seq = process_sequence(genome, chrom, i, i + 2 * stride)\n",
    "                out_channel = bin_methylation(measured, start_coordinate=i, seq_len=seq_len, resolution=32)\n",
    "\n",
    "                seqs.append(seq)\n",
    "                targets.append(out_channel)\n",
    "                chroms.append(chrom)\n",
    "                starts.append(i)\n",
    "\n",
    "            if not seqs:\n",
    "                continue\n",
    "\n",
    "            # Convert to arrays for bulk writing\n",
    "            seqs = np.stack(seqs)\n",
    "            targets = np.stack(targets)\n",
    "            chroms = np.array(chroms, dtype=h5py.string_dtype(encoding=\"utf-8\"))\n",
    "            starts = np.array(starts, dtype=np.int32)\n",
    "\n",
    "            n_new = seqs.shape[0]\n",
    "            start_idx = f[\"sequence\"].shape[0]\n",
    "\n",
    "            for name, data in zip(['sequence', 'me_track', 'chromosome', 'start_coord'], [seqs, targets, chroms, starts]):\n",
    "                f[name].resize(start_idx + n_new, axis=0)\n",
    "                f[name][-n_new:] = data\n",
    "            "
   ]
  },
  {
   "cell_type": "code",
   "execution_count": 10,
   "id": "ed597a2a",
   "metadata": {},
   "outputs": [
    {
     "data": {
      "text/plain": [
       "6144"
      ]
     },
     "execution_count": 10,
     "metadata": {},
     "output_type": "execute_result"
    }
   ],
   "source": [
    "196608 // 32"
   ]
  },
  {
   "cell_type": "code",
   "execution_count": null,
   "id": "94a19dd8",
   "metadata": {},
   "outputs": [],
   "source": []
  }
 ],
 "metadata": {
  "kernelspec": {
   "display_name": "flashzoi",
   "language": "python",
   "name": "python3"
  },
  "language_info": {
   "codemirror_mode": {
    "name": "ipython",
    "version": 3
   },
   "file_extension": ".py",
   "mimetype": "text/x-python",
   "name": "python",
   "nbconvert_exporter": "python",
   "pygments_lexer": "ipython3",
   "version": "3.12.11"
  }
 },
 "nbformat": 4,
 "nbformat_minor": 5
}
